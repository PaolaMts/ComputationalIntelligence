{
 "cells": [
  {
   "cell_type": "markdown",
   "metadata": {},
   "source": [
    "Copyright **`(c)`** 2023 Giovanni Squillero `<giovanni.squillero@polito.it>`  \n",
    "[`https://github.com/squillero/computational-intelligence`](https://github.com/squillero/computational-intelligence)  \n",
    "Free for personal or classroom use; see [`LICENSE.md`](https://github.com/squillero/computational-intelligence/blob/master/LICENSE.md) for details.  "
   ]
  },
  {
   "cell_type": "markdown",
   "metadata": {},
   "source": [
    "# LAB10\n",
    "\n",
    "Use reinforcement learning to devise a tic-tac-toe player.\n",
    "\n",
    "### Deadlines:\n",
    "\n",
    "* Submission: [Dies Natalis Solis Invicti](https://en.wikipedia.org/wiki/Sol_Invictus)\n",
    "* Reviews: [Befana](https://en.wikipedia.org/wiki/Befana)\n",
    "\n",
    "Notes:\n",
    "\n",
    "* Reviews will be assigned  on Monday, December 4\n",
    "* You need to commit in order to be selected as a reviewer (ie. better to commit an empty work than not to commit)"
   ]
  },
  {
   "cell_type": "code",
   "execution_count": 25,
   "metadata": {},
   "outputs": [],
   "source": [
    "import numpy as np\n",
    "from collections import namedtuple\n",
    "from random import choices\n",
    "from collections import defaultdict\n",
    "from tqdm.auto import tqdm\n",
    "\n",
    "N=3\n",
    "Move = namedtuple(\"Move\", \"row, col\")\n"
   ]
  },
  {
   "cell_type": "code",
   "execution_count": 26,
   "metadata": {},
   "outputs": [],
   "source": [
    "def check_win( board, p):\n",
    "    return (np.all(board.diagonal()==p)\n",
    "        or np.all(np.fliplr(board).diagonal()==p)\n",
    "        or np.any(np.all(board == p, axis=1))\n",
    "        or np.any(np.all(board == p, axis=0)))\n",
    "\n",
    "def make_move(player, ply, board):  \n",
    "        board[ply.row, ply.col] = player     \n",
    "        return tuple(board.flatten()), check_win(board, player)\n",
    "\n",
    "def init_match(): # return the empty board, the list of alla possible moves and the player who starts\n",
    "      return np.full((N, N), -1), [Move(i, j) for i in range(N) for j in range(N)], np.random.randint(0, 2)"
   ]
  },
  {
   "cell_type": "code",
   "execution_count": 27,
   "metadata": {},
   "outputs": [],
   "source": [
    "class TicTacToe:\n",
    "    def __init__(self, player1, player2):\n",
    "        self.board, self.moves, self.p = init_match()\n",
    "        self.player = [player1, player2]\n",
    "\n",
    "    def __str__(self):\n",
    "        return str(self.board)\n",
    "    \n",
    "    def game(self):\n",
    "        finish = False\n",
    "        while not finish and len(self.moves)>0:\n",
    "            ply = self.player[self.p].play(self.moves, self.board)\n",
    "            _, finish= make_move(self.p, ply, self.board)\n",
    "            # print(f\"player {self.p} plays {ply}\")\n",
    "            # print(self.board)\n",
    "            if finish:\n",
    "                # print(f\"player {self.p} wins in {finish}\")\n",
    "                return self.p\n",
    "            self.p = 1-self.p\n",
    "        # print(f\"Tie\")\n",
    "        return -1\n",
    "        "
   ]
  },
  {
   "cell_type": "code",
   "execution_count": 28,
   "metadata": {},
   "outputs": [],
   "source": [
    "# A simple player that plays randomly\n",
    "class RandomPlayer:\n",
    "    def __init__(self):\n",
    "        pass\n",
    "\n",
    "    def play(self, moves, _):\n",
    "        m=choices(moves)[0] \n",
    "        moves.remove(m)\n",
    "        return m  "
   ]
  },
  {
   "cell_type": "code",
   "execution_count": 29,
   "metadata": {},
   "outputs": [],
   "source": [
    "# A player that plays randomly but will win if possible\n",
    "class RandomPlayerTwo:\n",
    "    def __init__(self):\n",
    "        self.player=0   \n",
    "\n",
    "    def play(self, moves, board):\n",
    "        m= self.check_possible_win(board, moves)\n",
    "        m=choices(moves)[0] if m is None  else m\n",
    "        moves.remove(m)\n",
    "        return m   \n",
    "    \n",
    "    def check_possible_win(self, board, moves):  \n",
    "        if np.count_nonzero(board.diagonal() == self.player)==2 and -1 in board.diagonal():\n",
    "            return [move for move in moves if move.row == move.col][0]\n",
    "        \n",
    "        if np.count_nonzero(np.diag(np.fliplr(board)) == self.player)==2 and -1 in np.diag(np.fliplr(board)):\n",
    "            return [move for move in moves if move.row + move.col == 2][0]\n",
    "        for i in range(N):\n",
    "            # Check rows\n",
    "            if np.count_nonzero(board[i, :] == self.player) == 2 and -1 in board[i, :]:\n",
    "                return [move for move in moves if move.row == i][0]\n",
    "            # Check columns\n",
    "            if np.count_nonzero(board[:, i] == self.player) == 2 and -1 in board[:, i]:\n",
    "                return [move for move in moves if move.col == i][0]\n",
    "\n",
    "        return None "
   ]
  },
  {
   "cell_type": "code",
   "execution_count": 30,
   "metadata": {},
   "outputs": [],
   "source": [
    "# A player that is trained using Q-learning\n",
    "\n",
    "class MyPlayer:\n",
    "    def __init__(self):\n",
    "        self.player = 1\n",
    "        self.eps = 0.4\n",
    "        self.α = 0.1 # learning rate\n",
    "        self.γ = 0.5 # discount factor\n",
    "        self.Q = self.training() # Q-value table\n",
    "        \n",
    "    \n",
    "    def training(self):\n",
    "\n",
    "        p2=RandomPlayerTwo()\n",
    "        Q = defaultdict(lambda: defaultdict(lambda: 0.0))\n",
    "\n",
    "        for _ in tqdm(range(20_000)):\n",
    "            # Initialize the match\n",
    "            board, valid_moves, start = init_match()\n",
    "\n",
    "            if start == 1:\n",
    "                s0=tuple(board.flatten())\n",
    "            else:\n",
    "                a_p2 = p2.play(valid_moves, board)\n",
    "                s0, _ = make_move(1 - self.player, a_p2, board)  \n",
    "            finish = False\n",
    "            reward = 0\n",
    "            # play a match\n",
    "            while not finish and len(valid_moves) > 0:\n",
    "                # Make a random move for the agent\n",
    "                a0= self.play(valid_moves, board, Q)\n",
    "                s1, finish= make_move(self.player, a0, board)\n",
    "                reward = 5 if finish else 0.1\n",
    "                if not finish and len(valid_moves)>0:\n",
    "                    # Player two's move\n",
    "                    a_p2 = p2.play(valid_moves, board)\n",
    "                    s2, finish = make_move(1 - self.player, a_p2, board)\n",
    "                    reward = -10 if finish else 0.1\n",
    "                    \n",
    "                Q[s0][a0] = (1 - self.α) * Q[s0][a0] + self.α * (reward + self.γ * max(Q[s1].values(), default=0))             \n",
    "                # Update current state and action\n",
    "                s0 = s2\n",
    "        return Q\n",
    "    \n",
    "    def play(self, moves, board, Q=None):\n",
    "        state_index = tuple(board.flatten())\n",
    "\n",
    "        q_values = self.Q[state_index] if Q is None else Q[state_index]\n",
    "\n",
    "        if (Q is not None and np.random.rand()<self.eps) or len(q_values)==0:\n",
    "            # Take a random move\n",
    "            m=choices(moves)[0]\n",
    "        else:\n",
    "            # Take the best move\n",
    "            m = max(q_values.keys(), key=lambda e:q_values[e])\n",
    "        moves.remove(m)\n",
    "\n",
    "        return m\n"
   ]
  },
  {
   "cell_type": "code",
   "execution_count": null,
   "metadata": {},
   "outputs": [],
   "source": [
    "players = [RandomPlayerTwo(), MyPlayer()]"
   ]
  },
  {
   "cell_type": "code",
   "execution_count": 32,
   "metadata": {},
   "outputs": [
    {
     "name": "stdout",
     "output_type": "stream",
     "text": [
      "tie: 7.4%, win: 86.0%, lost: 6.6%\n"
     ]
    }
   ],
   "source": [
    "match={-1:0, 0:0, 1:0}\n",
    "\n",
    "for _ in range(500):\n",
    "    game= TicTacToe(players[0], players[1])\n",
    "    val=game.game()\n",
    "    match[val]+=1\n",
    "print(f\"tie: {match[0]/5}%, win: {match[1]/5}%, lost: {match[-1]/5}%\")\n"
   ]
  }
 ],
 "metadata": {
  "kernelspec": {
   "display_name": "ci-fLJ3OwGs-py3.12",
   "language": "python",
   "name": "python3"
  },
  "language_info": {
   "codemirror_mode": {
    "name": "ipython",
    "version": 3
   },
   "file_extension": ".py",
   "mimetype": "text/x-python",
   "name": "python",
   "nbconvert_exporter": "python",
   "pygments_lexer": "ipython3",
   "version": "3.12.0"
  }
 },
 "nbformat": 4,
 "nbformat_minor": 2
}
