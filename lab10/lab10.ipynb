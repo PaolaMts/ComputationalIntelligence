{
 "cells": [
  {
   "cell_type": "markdown",
   "metadata": {},
   "source": [
    "Copyright **`(c)`** 2023 Giovanni Squillero `<giovanni.squillero@polito.it>`  \n",
    "[`https://github.com/squillero/computational-intelligence`](https://github.com/squillero/computational-intelligence)  \n",
    "Free for personal or classroom use; see [`LICENSE.md`](https://github.com/squillero/computational-intelligence/blob/master/LICENSE.md) for details.  "
   ]
  },
  {
   "cell_type": "markdown",
   "metadata": {},
   "source": [
    "# LAB10\n",
    "\n",
    "Use reinforcement learning to devise a tic-tac-toe player.\n",
    "\n",
    "### Deadlines:\n",
    "\n",
    "* Submission: Sunday, December 17 ([CET](https://www.timeanddate.com/time/zones/cet))\n",
    "* Reviews: Dies Natalis Solis Invicti ([CET](https://en.wikipedia.org/wiki/Sol_Invictus))\n",
    "\n",
    "Notes:\n",
    "\n",
    "* Reviews will be assigned  on Monday, December 4\n",
    "* You need to commit in order to be selected as a reviewer (ie. better to commit an empty work than not to commit)"
   ]
  },
  {
   "cell_type": "code",
   "execution_count": 154,
   "metadata": {},
   "outputs": [],
   "source": [
    "import numpy as np\n",
    "from collections import namedtuple\n",
    "from random import choices\n",
    "\n",
    "N=3\n",
    "Move = namedtuple(\"Move\", \"row, col\")"
   ]
  },
  {
   "cell_type": "code",
   "execution_count": 155,
   "metadata": {},
   "outputs": [],
   "source": [
    "class MyPlayer:\n",
    "    def __init__(self):\n",
    "        self.player=1 \n",
    "    \n",
    "    def play(self, moves):\n",
    "        m= choices(moves)[0]\n",
    "        moves.remove(m)\n",
    "        return m "
   ]
  },
  {
   "cell_type": "code",
   "execution_count": 156,
   "metadata": {},
   "outputs": [],
   "source": [
    "class RandomPlayer:\n",
    "    def __init__(self):\n",
    "        self.player=0   \n",
    "\n",
    "    def play(self, moves):\n",
    "        m= choices(moves)[0]\n",
    "        moves.remove(m)\n",
    "        return m    \n",
    "    "
   ]
  },
  {
   "cell_type": "code",
   "execution_count": 157,
   "metadata": {},
   "outputs": [],
   "source": [
    "class TicTacToe:\n",
    "    def __init__(self):\n",
    "        self.board = np.full((N, N), -1)\n",
    "        self.p=np.random.randint(0,2)\n",
    "        self.moves = [Move(i, j) for i in range(N) for j in range(N)]\n",
    "\n",
    "    def __str__(self):\n",
    "        return str(self.board)\n",
    "    \n",
    "    def game(self):\n",
    "        player = (RandomPlayer(), MyPlayer()) \n",
    "        finish = False\n",
    "   \n",
    "        while not finish:\n",
    "            ply = player[self.p].play(self.moves)\n",
    "            finish= self.make_move(self.p, ply)\n",
    "            # print(f\"player {self.p} plays {ply}\")\n",
    "            # print(self.board)\n",
    "            if not finish:\n",
    "                self.p = 1-self.p\n",
    "        if finish == True:\n",
    "            print(f\"Tie\")\n",
    "        else:\n",
    "            print(f\"player {self.p} wins in {finish}\")\n",
    "    \n",
    "    def check_win(self, ply):\n",
    "        if np.all(self.board.diagonal()==self.p):\n",
    "            return \"Diag\"     \n",
    "        if np.all(np.fliplr(self.board).diagonal()==self.p):\n",
    "            return \"A-Diag\"\n",
    "        if np.any(np.all(self.board == self.p, axis=1)):\n",
    "            return f\"Row: {ply.row+1}\"\n",
    "        if np.any(np.all(self.board == self.p, axis=0)):\n",
    "            return f\"Col: {ply.col+1}\"\n",
    "        return np.count_nonzero(self.board == -1) == 0\n",
    "\n",
    "    def make_move(self, player, ply):  \n",
    "        self.board[ply.row, ply.col] = player     \n",
    "        return self.check_win(ply)\n",
    "        "
   ]
  },
  {
   "cell_type": "code",
   "execution_count": 158,
   "metadata": {},
   "outputs": [
    {
     "name": "stdout",
     "output_type": "stream",
     "text": [
      "player 0 wins in Col: 1\n"
     ]
    }
   ],
   "source": [
    "game= TicTacToe()\n",
    "\n",
    "game.game()"
   ]
  }
 ],
 "metadata": {
  "kernelspec": {
   "display_name": "ci-fLJ3OwGs-py3.12",
   "language": "python",
   "name": "python3"
  },
  "language_info": {
   "codemirror_mode": {
    "name": "ipython",
    "version": 3
   },
   "file_extension": ".py",
   "mimetype": "text/x-python",
   "name": "python",
   "nbconvert_exporter": "python",
   "pygments_lexer": "ipython3",
   "version": "3.12.0"
  }
 },
 "nbformat": 4,
 "nbformat_minor": 2
}
