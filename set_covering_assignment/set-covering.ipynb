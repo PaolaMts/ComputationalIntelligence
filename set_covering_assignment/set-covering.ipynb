{
 "cells": [
  {
   "cell_type": "markdown",
   "metadata": {},
   "source": [
    "Copyright **`(c)`** 2023 Giovanni Squillero `<giovanni.squillero@polito.it>`  \n",
    "[`https://github.com/squillero/computational-intelligence`](https://github.com/squillero/computational-intelligence)  \n",
    "Free for personal or classroom use; see [`LICENSE.md`](https://github.com/squillero/computational-intelligence/blob/master/LICENSE.md) for details.  "
   ]
  },
  {
   "cell_type": "code",
   "execution_count": 1197,
   "metadata": {},
   "outputs": [],
   "source": [
    "from random import random\n",
    "from functools import reduce\n",
    "from collections import namedtuple\n",
    "from queue import PriorityQueue\n",
    "\n",
    "import numpy as np"
   ]
  },
  {
   "cell_type": "code",
   "execution_count": 1198,
   "metadata": {},
   "outputs": [],
   "source": [
    "PROBLEM_SIZE = 20\n",
    "NUM_SETS = 40\n",
    "SETS = [\n",
    "    np.array([random() < 0.3 for _ in range(PROBLEM_SIZE)]) for _ in range(NUM_SETS)\n",
    "]\n",
    "# SETS = [np.array([True, True, True, True, True, True, False, False, False]),\n",
    "#         np.array([True, True, True, True, False, False, False, False, True]),\n",
    "#         np.array([False, False, False, False, True, True, True, True, False])]\n",
    "State = namedtuple(\"State\", [\"taken\", \"not_taken\"])"
   ]
  },
  {
   "cell_type": "code",
   "execution_count": 1199,
   "metadata": {},
   "outputs": [],
   "source": [
    "def goal_check(state):\n",
    "    return np.all(\n",
    "        reduce(\n",
    "            np.logical_or,\n",
    "            [SETS[i] for i in state.taken],\n",
    "            np.array([False for _ in range(PROBLEM_SIZE)]),\n",
    "        )\n",
    "    )\n",
    "\n",
    "\n",
    "def distance(state):\n",
    "    return PROBLEM_SIZE - sum(\n",
    "        reduce(\n",
    "            np.logical_or,\n",
    "            [SETS[i] for i in state.taken],\n",
    "            np.array([False for _ in range(PROBLEM_SIZE)]),\n",
    "        )\n",
    "    )\n",
    "\n",
    "\n",
    "def g(state, action):\n",
    "    return sum(\n",
    "        reduce(\n",
    "            np.logical_and,\n",
    "            reduce(\n",
    "                np.logical_or,\n",
    "                [SETS[i] for i in state],\n",
    "                np.array([False for _ in range(PROBLEM_SIZE)]),\n",
    "            ),\n",
    "            SETS[action],\n",
    "        )\n",
    "    )"
   ]
  },
  {
   "cell_type": "code",
   "execution_count": 1200,
   "metadata": {},
   "outputs": [],
   "source": [
    "assert goal_check(State(set(range(NUM_SETS)), set())), \"Problem not solvable\""
   ]
  },
  {
   "cell_type": "code",
   "execution_count": 1201,
   "metadata": {},
   "outputs": [],
   "source": [
    "def sorting_key(e):\n",
    "    return e.sum()\n",
    "\n",
    "def get_ordered_sets():\n",
    "    SETS.sort(reverse=True, key=sorting_key)"
   ]
  },
  {
   "cell_type": "code",
   "execution_count": 1202,
   "metadata": {},
   "outputs": [
    {
     "name": "stdout",
     "output_type": "stream",
     "text": [
      "find_solution\n",
      "Solved in 821 steps (4 tiles)\n"
     ]
    }
   ],
   "source": [
    "frontier = PriorityQueue()\n",
    "solutions = PriorityQueue()\n",
    "get_ordered_sets()\n",
    "\n",
    "state = State(set(), set(range(NUM_SETS)))\n",
    "\n",
    "frontier.put((distance(state), state))\n",
    "wrong = []\n",
    "\n",
    "counter = 0\n",
    "_, current_state = frontier.get()\n",
    "\n",
    "while counter==0 or not frontier.empty():\n",
    "    if  solutions.empty() or len(current_state[0]) + 1 < solutions.queue[0][0]:\n",
    "        counter += 1\n",
    "        for action in current_state[1]:\n",
    "            new_state = State(\n",
    "                current_state.taken ^ {action},\n",
    "                current_state.not_taken ^ {action},\n",
    "            )\n",
    "            \n",
    "            if len(wrong)==0 or sorted(new_state[0]) not in wrong:\n",
    "                g_res = g(current_state[0], action)\n",
    "                d = distance(new_state)\n",
    "\n",
    "                frontier.put((d + g_res, new_state))\n",
    "    \n",
    "                if d == 0:\n",
    "                    print(\"find_solution\")\n",
    "                    solutions.put((len(new_state[0]), new_state[0]))\n",
    "                    break\n",
    "\n",
    "\n",
    "    if not solutions.empty() and (solutions.queue[0][0] == 1 or solutions.queue[0][0] == 2):\n",
    "        break\n",
    "    _, current_state = frontier.get()\n",
    "    wrong.append(sorted(current_state[0]))\n",
    "  \n",
    "    \n",
    "\n",
    "print(f\"Solved in {counter:,} steps ({solutions.queue[0][0]} tiles)\")"
   ]
  },
  {
   "cell_type": "code",
   "execution_count": 1203,
   "metadata": {},
   "outputs": [
    {
     "data": {
      "text/plain": [
       "[(4, {0, 1, 2, 3})]"
      ]
     },
     "execution_count": 1203,
     "metadata": {},
     "output_type": "execute_result"
    }
   ],
   "source": [
    "solutions.queue"
   ]
  },
  {
   "cell_type": "code",
   "execution_count": 1204,
   "metadata": {},
   "outputs": [
    {
     "data": {
      "text/plain": [
       "[array([ True,  True, False,  True,  True, False, False, False, False,\n",
       "         True,  True, False, False, False,  True,  True, False,  True,\n",
       "        False,  True]),\n",
       " array([False,  True,  True, False,  True, False,  True, False,  True,\n",
       "        False, False,  True,  True, False, False,  True, False, False,\n",
       "        False,  True]),\n",
       " array([ True, False, False, False, False,  True,  True, False, False,\n",
       "        False, False,  True,  True,  True,  True, False, False,  True,\n",
       "         True, False]),\n",
       " array([False,  True, False, False,  True, False,  True,  True,  True,\n",
       "        False,  True,  True, False, False, False, False,  True, False,\n",
       "        False,  True]),\n",
       " array([ True, False, False, False,  True,  True, False,  True, False,\n",
       "        False, False,  True, False, False,  True, False, False,  True,\n",
       "         True,  True]),\n",
       " array([False, False,  True,  True, False,  True, False,  True, False,\n",
       "        False,  True, False, False,  True,  True,  True, False,  True,\n",
       "        False, False]),\n",
       " array([False,  True, False, False, False,  True,  True, False,  True,\n",
       "        False, False, False,  True,  True,  True, False, False, False,\n",
       "         True, False]),\n",
       " array([False, False, False, False, False,  True,  True,  True, False,\n",
       "        False, False, False,  True,  True,  True,  True, False, False,\n",
       "        False,  True]),\n",
       " array([ True, False, False, False, False, False,  True,  True, False,\n",
       "         True,  True, False, False, False, False, False, False,  True,\n",
       "        False,  True]),\n",
       " array([False, False, False, False, False,  True, False,  True, False,\n",
       "        False, False,  True,  True, False, False,  True, False,  True,\n",
       "         True, False]),\n",
       " array([ True,  True, False, False, False,  True,  True, False,  True,\n",
       "        False, False, False,  True, False, False,  True, False, False,\n",
       "        False, False]),\n",
       " array([ True, False, False,  True, False, False,  True, False,  True,\n",
       "        False,  True,  True,  True, False, False, False, False, False,\n",
       "        False, False]),\n",
       " array([ True, False,  True, False, False, False, False, False, False,\n",
       "        False, False,  True,  True, False,  True,  True, False, False,\n",
       "        False,  True]),\n",
       " array([ True,  True,  True,  True, False, False, False, False,  True,\n",
       "        False, False, False, False, False, False, False, False,  True,\n",
       "         True, False]),\n",
       " array([False, False, False, False,  True, False, False, False,  True,\n",
       "         True,  True, False,  True, False,  True, False, False, False,\n",
       "        False,  True]),\n",
       " array([False,  True,  True,  True, False,  True, False, False,  True,\n",
       "        False, False,  True, False, False, False, False, False, False,\n",
       "        False, False]),\n",
       " array([False, False, False, False, False,  True, False, False,  True,\n",
       "         True, False, False, False,  True, False, False, False,  True,\n",
       "        False,  True]),\n",
       " array([False,  True, False, False,  True, False, False, False,  True,\n",
       "         True, False, False,  True, False, False, False, False,  True,\n",
       "        False, False]),\n",
       " array([False, False, False,  True, False, False, False, False, False,\n",
       "        False, False, False,  True,  True,  True,  True, False, False,\n",
       "        False,  True]),\n",
       " array([False, False, False, False, False, False, False, False,  True,\n",
       "         True, False, False,  True, False,  True,  True, False, False,\n",
       "         True, False]),\n",
       " array([False, False, False, False, False, False, False,  True, False,\n",
       "         True, False,  True, False, False, False,  True, False, False,\n",
       "        False,  True]),\n",
       " array([ True,  True, False, False, False, False, False, False, False,\n",
       "        False, False, False,  True, False, False, False, False, False,\n",
       "         True,  True]),\n",
       " array([ True,  True, False, False, False, False, False, False,  True,\n",
       "         True, False, False, False, False,  True, False, False, False,\n",
       "        False, False]),\n",
       " array([False, False, False,  True, False,  True, False, False, False,\n",
       "        False, False, False, False,  True,  True, False, False, False,\n",
       "        False,  True]),\n",
       " array([False, False,  True,  True, False, False, False, False, False,\n",
       "         True, False,  True, False,  True, False, False, False, False,\n",
       "        False, False]),\n",
       " array([False, False, False, False, False, False, False,  True, False,\n",
       "        False, False, False,  True, False, False,  True,  True, False,\n",
       "         True, False]),\n",
       " array([ True, False, False, False, False,  True,  True,  True, False,\n",
       "        False, False, False, False, False, False,  True, False, False,\n",
       "        False, False]),\n",
       " array([False, False, False, False,  True, False,  True,  True,  True,\n",
       "        False,  True, False, False, False, False, False, False, False,\n",
       "        False, False]),\n",
       " array([False, False,  True, False,  True, False, False, False, False,\n",
       "        False, False, False,  True, False, False, False,  True, False,\n",
       "        False, False]),\n",
       " array([False, False, False, False, False, False, False,  True, False,\n",
       "        False, False, False, False, False,  True, False,  True, False,\n",
       "        False,  True]),\n",
       " array([False,  True, False, False, False, False, False,  True, False,\n",
       "        False, False, False, False, False, False, False,  True, False,\n",
       "        False,  True]),\n",
       " array([False, False,  True, False, False, False, False, False, False,\n",
       "         True, False, False,  True, False, False, False,  True, False,\n",
       "        False, False]),\n",
       " array([False, False,  True,  True, False, False,  True, False, False,\n",
       "        False, False, False, False, False, False, False, False,  True,\n",
       "        False, False]),\n",
       " array([ True, False, False, False, False,  True, False, False, False,\n",
       "        False, False, False, False, False, False,  True, False, False,\n",
       "        False, False]),\n",
       " array([False, False, False,  True, False, False,  True, False, False,\n",
       "        False, False, False, False, False, False, False, False,  True,\n",
       "        False, False]),\n",
       " array([False,  True,  True, False, False, False, False, False, False,\n",
       "        False, False,  True, False, False, False, False, False, False,\n",
       "        False, False]),\n",
       " array([False, False, False,  True, False, False, False, False, False,\n",
       "        False,  True, False, False, False, False, False, False,  True,\n",
       "        False, False]),\n",
       " array([False, False, False, False,  True,  True, False, False, False,\n",
       "        False, False, False, False, False,  True, False, False, False,\n",
       "        False, False]),\n",
       " array([False, False, False,  True,  True, False, False, False, False,\n",
       "        False, False, False, False, False, False, False, False, False,\n",
       "        False, False]),\n",
       " array([False, False, False, False, False,  True, False, False, False,\n",
       "        False, False, False, False, False, False, False, False, False,\n",
       "        False, False])]"
      ]
     },
     "execution_count": 1204,
     "metadata": {},
     "output_type": "execute_result"
    }
   ],
   "source": [
    "SETS"
   ]
  }
 ],
 "metadata": {
  "kernelspec": {
   "display_name": "ci-P-7LqQ3C-py3.11",
   "language": "python",
   "name": "python3"
  },
  "language_info": {
   "codemirror_mode": {
    "name": "ipython",
    "version": 3
   },
   "file_extension": ".py",
   "mimetype": "text/x-python",
   "name": "python",
   "nbconvert_exporter": "python",
   "pygments_lexer": "ipython3",
   "version": "3.12.0"
  }
 },
 "nbformat": 4,
 "nbformat_minor": 2
}
