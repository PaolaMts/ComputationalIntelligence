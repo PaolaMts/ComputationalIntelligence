{
 "cells": [
  {
   "cell_type": "code",
   "execution_count": null,
   "metadata": {},
   "outputs": [],
   "source": [
    "from game import Game\n",
    "from players import MyPlayer, RandomPlayer, HumanPlayer, print_board\n",
    "from tqdm.auto import tqdm"
   ]
  },
  {
   "cell_type": "code",
   "execution_count": 36,
   "metadata": {},
   "outputs": [],
   "source": [
    "TEST_MATCHES = 10\n",
    "WITH_SIMMETRY = False\n",
    "MY_PLAYER_ID = 0 # 0 => my player starts as first, 1 => my player starts as second\n",
    "\n",
    "if MY_PLAYER_ID == 1:\n",
    "    player0, player1 = RandomPlayer(),  MyPlayer(MY_PLAYER_ID, max_depth=3, with_simmetries=WITH_SIMMETRY)\n",
    "else:\n",
    "    player0, player1 = MyPlayer(MY_PLAYER_ID, max_depth=3, with_simmetries=WITH_SIMMETRY), RandomPlayer()"
   ]
  },
  {
   "cell_type": "code",
   "execution_count": null,
   "metadata": {},
   "outputs": [],
   "source": [
    "# testing MyPlayer vs RandomPlayer\n",
    "wins = 0\n",
    "losses = 0\n",
    "\n",
    "print(\"\\nTEST GAMES\")\n",
    "    \n",
    "for _ in tqdm(range(TEST_MATCHES)):\n",
    "    g = Game()\n",
    "    winner = g.play(player0, player1)\n",
    "    if winner == MY_PLAYER_ID:\n",
    "        wins +=1\n",
    "    else:\n",
    "        losses += 1\n",
    "print(f\"wins: {wins/TEST_MATCHES* 100:.2f}%, losses: {losses/TEST_MATCHES* 100:.2f}%\")"
   ]
  },
  {
   "cell_type": "code",
   "execution_count": 40,
   "metadata": {},
   "outputs": [],
   "source": [
    "HUMAN_ID = 0 # 0 => you start as first, 1 => you start as second\n",
    "\n",
    "if HUMAN_ID == 1:\n",
    "    player0, player1 = MyPlayer(1-HUMAN_ID, max_depth=3, against_human=True), HumanPlayer()\n",
    "else:\n",
    "    player0, player1 = HumanPlayer(), MyPlayer(1-HUMAN_ID, max_depth=3, against_human=True)"
   ]
  },
  {
   "cell_type": "code",
   "execution_count": null,
   "metadata": {},
   "outputs": [],
   "source": [
    "#Play against MyPlayer\n",
    "g = Game()\n",
    "\n",
    "print(\"PLAYER 0: \", '\\033[91m', \"X\", '\\033[0m')\n",
    "print(\"PLAYER 1: \", '\\033[92m', \"O\", '\\033[0m')\n",
    "winner = g.play(player0, player1)\n",
    "print_board(g)\n",
    "if winner == 0:\n",
    "    print(\"Player 0 wins\")\n",
    "else:    \n",
    "    print(\"Player 1 wins\")"
   ]
  }
 ],
 "metadata": {
  "kernelspec": {
   "display_name": "quixo-2SR8Bqo--py3.12",
   "language": "python",
   "name": "python3"
  },
  "language_info": {
   "codemirror_mode": {
    "name": "ipython",
    "version": 3
   },
   "file_extension": ".py",
   "mimetype": "text/x-python",
   "name": "python",
   "nbconvert_exporter": "python",
   "pygments_lexer": "ipython3",
   "version": "3.12.0"
  }
 },
 "nbformat": 4,
 "nbformat_minor": 2
}
