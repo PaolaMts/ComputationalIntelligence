{
 "cells": [
  {
   "cell_type": "markdown",
   "metadata": {},
   "source": [
    "Copyright **`(c)`** 2023 Giovanni Squillero `<giovanni.squillero@polito.it>`  \n",
    "[`https://github.com/squillero/computational-intelligence`](https://github.com/squillero/computational-intelligence)  \n",
    "Free for personal or classroom use; see [`LICENSE.md`](https://github.com/squillero/computational-intelligence/blob/master/LICENSE.md) for details.  "
   ]
  },
  {
   "cell_type": "code",
   "execution_count": 48,
   "metadata": {},
   "outputs": [],
   "source": [
    "from itertools import product\n",
    "from random import random, randint, shuffle, seed\n",
    "import numpy as np\n",
    "from scipy import sparse\n",
    "from copy import copy\n",
    "from functools import reduce\n",
    "from tqdm.auto import tqdm\n",
    "from queue import PriorityQueue"
   ]
  },
  {
   "cell_type": "code",
   "execution_count": 49,
   "metadata": {},
   "outputs": [],
   "source": [
    "def make_set_covering_problem(num_points, num_sets, density):\n",
    "    \"\"\"Returns a sparse array where rows are sets and columns are the covered items\"\"\"\n",
    "    seed(num_points*2654435761+num_sets+density)\n",
    "    sets = sparse.lil_array((num_sets, num_points), dtype=bool)\n",
    "    for s, p in product(range(num_sets), range(num_points)):\n",
    "        if random() < density:\n",
    "            sets[s, p] = True\n",
    "    for p in range(num_points):\n",
    "        sets[randint(0, num_sets-1), p] = True\n",
    "    return sets"
   ]
  },
  {
   "cell_type": "markdown",
   "metadata": {},
   "source": [
    "# Halloween Challenge\n",
    "\n",
    "Find the best solution with the fewest calls to the fitness functions for:\n",
    "\n",
    "* `num_points = [100, 1_000, 5_000]`\n",
    "* `num_sets = num_points`\n",
    "* `density = [.3, .7]` "
   ]
  },
  {
   "cell_type": "code",
   "execution_count": 50,
   "metadata": {},
   "outputs": [],
   "source": [
    "problem_dim=1000\n",
    "num_sets=1000\n",
    "fitness_counter=0\n",
    "x = make_set_covering_problem(problem_dim, num_sets, .3)\n",
    "\n",
    "\n"
   ]
  },
  {
   "cell_type": "code",
   "execution_count": 51,
   "metadata": {},
   "outputs": [],
   "source": [
    "def get_set(index):\n",
    "    return x[[index],:].toarray()[0]\n",
    "\n",
    "# find how many false it takes\n",
    "def distance(state):         \n",
    "    return problem_dim - sum(state)\n",
    "\n",
    "\n",
    "# compute logical or between all the set taken in the current state\n",
    "def total_state(state):     \n",
    "    return reduce(\n",
    "        np.logical_or,\n",
    "        [get_set(i) for i in state],\n",
    "        np.array([False for _ in range(problem_dim)]),\n",
    "    )\n"
   ]
  },
  {
   "cell_type": "code",
   "execution_count": 52,
   "metadata": {},
   "outputs": [
    {
     "data": {
      "application/vnd.jupyter.widget-view+json": {
       "model_id": "c6e9342729b54931b16d4a1c18f856df",
       "version_major": 2,
       "version_minor": 0
      },
      "text/plain": [
       "  0%|          | 0/200 [00:00<?, ?it/s]"
      ]
     },
     "metadata": {},
     "output_type": "display_data"
    },
    {
     "name": "stdout",
     "output_type": "stream",
     "text": [
      "10 10\n",
      "9 1939\n",
      "solution found in 1993 calls,solution has length 9\n"
     ]
    }
   ],
   "source": [
    "\n",
    "def fitness(state):\n",
    "    cost = state.sum(axis=0)\n",
    "    global fitness_counter\n",
    "    fitness_counter= fitness_counter+1\n",
    "    valid = np.all(\n",
    "        reduce(\n",
    "            np.logical_or,\n",
    "            [x[[i],:].toarray()[0] for i, t in enumerate(state) if t],\n",
    "            np.array([False for _ in range(problem_dim)]),\n",
    "        )\n",
    "    )\n",
    "    return valid, cost\n",
    "\n",
    "def random_state(state):\n",
    "    new_state = copy(state)\n",
    "    index = randint(0, num_sets-1)\n",
    "    new_state=([index], get_set(index))\n",
    "    return new_state\n",
    "\n",
    "def key_funct(e, state):\n",
    "    e_state=total_state([e])\n",
    "\n",
    "    overlap = sum(np.logical_and(e_state , total_state(state)))\n",
    "  \n",
    "    return overlap+distance(e_state)\n",
    "\n",
    "def tweak(state):\n",
    "    sets_list= set(range(num_sets))-set(state[0])\n",
    "    candidates = sorted(sets_list, key=lambda e:key_funct(e, state[0]) )\n",
    "    new_state = state[0].__add__([candidates[0]])\n",
    "    return (new_state, total_state(new_state))\n",
    "\n",
    "actual_best_sol = None\n",
    "T_start=10000\n",
    "fitness_counter=0\n",
    "n_run = 200\n",
    "\n",
    "first_ind= randint(0, num_sets-1)\n",
    "current_state=([first_ind], get_set(first_ind))\n",
    "\n",
    "with tqdm(total=n_run) as pbar:\n",
    "    for run in range(n_run):\n",
    "        d=1\n",
    "    \n",
    "        new_state = random_state(current_state)\n",
    "        step = 1\n",
    "        T=T_start\n",
    "        new_state_eval= fitness(new_state[1])\n",
    "        current_state_eval = fitness(current_state[1])\n",
    "        while step<=10 and (new_state_eval >= current_state_eval or np.exp(-(current_state_eval[1]-new_state_eval[1])/T)>random()) :\n",
    "            if T==0:\n",
    "                print(\"ho freddo, temperatura a zero!!\")\n",
    "                break\n",
    "            else:\n",
    "                current_state = new_state\n",
    "                new_state = tweak(new_state)\n",
    "                step+=1\n",
    "                d = distance(new_state[1])\n",
    "\n",
    "                if d==0 or (actual_best_sol is not None and len(new_state[0])>=len(actual_best_sol)):\n",
    "                    break\n",
    "                current_state_eval = new_state_eval\n",
    "                new_state_eval= fitness(new_state[1])   \n",
    "                T=1/np.log(1+step)*T\n",
    "        if d==0:\n",
    "            if actual_best_sol is None or len(new_state[0])<len(actual_best_sol):\n",
    "                actual_best_sol = new_state[0]\n",
    "                print(len(actual_best_sol), fitness_counter)\n",
    "                ''\n",
    "            current_state=(new_state[0][0], get_set(new_state[0][0]))\n",
    "\n",
    "\n",
    "        pbar.update(1)  \n",
    "    print(f\"solution found in {fitness_counter} calls,solution has length {len(actual_best_sol)}\")"
   ]
  }
 ],
 "metadata": {
  "kernelspec": {
   "display_name": "halloweenchallenge-lp-daLekBsK-py3.12",
   "language": "python",
   "name": "python3"
  },
  "language_info": {
   "codemirror_mode": {
    "name": "ipython",
    "version": 3
   },
   "file_extension": ".py",
   "mimetype": "text/x-python",
   "name": "python",
   "nbconvert_exporter": "python",
   "pygments_lexer": "ipython3",
   "version": "3.12.0"
  }
 },
 "nbformat": 4,
 "nbformat_minor": 2
}
