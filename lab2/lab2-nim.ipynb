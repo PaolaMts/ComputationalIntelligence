{
 "cells": [
  {
   "cell_type": "markdown",
   "metadata": {
    "pycharm": {
     "name": "#%% md\n"
    }
   },
   "source": [
    "Copyright **`(c)`** 2022 Giovanni Squillero `<squillero@polito.it>`  \n",
    "[`https://github.com/squillero/computational-intelligence`](https://github.com/squillero/computational-intelligence)  \n",
    "Free for personal or classroom use; see [`LICENSE.md`](https://github.com/squillero/computational-intelligence/blob/master/LICENSE.md) for details.  \n"
   ]
  },
  {
   "cell_type": "markdown",
   "metadata": {
    "pycharm": {
     "name": "#%%\n"
    }
   },
   "source": [
    "# Lab 2: ES\n",
    "\n",
    "## Task\n",
    "\n",
    "Write agents able to play [*Nim*](https://en.wikipedia.org/wiki/Nim), with an arbitrary number of rows and an upper bound $k$ on the number of objects that can be removed in a turn (a.k.a., *subtraction game*).\n",
    "\n",
    "The goal of the game is to **avoid** taking the last object.\n",
    "\n",
    "* Task2.1: An agent using fixed rules based on *nim-sum* (i.e., an *expert system*)\n",
    "* Task2.2: An agent using evolved rules using ES\n",
    "\n",
    "## Instructions\n",
    "\n",
    "* Create the directory `lab2` inside your personal course repository for the course \n",
    "* Put a `README.md` and your solution (all the files, code and auxiliary data if needed)\n",
    "\n",
    "## Notes\n",
    "\n",
    "* Working in group is not only allowed, but recommended (see: [Ubuntu](https://en.wikipedia.org/wiki/Ubuntu_philosophy) and [Cooperative Learning](https://files.eric.ed.gov/fulltext/EJ1096789.pdf)). Collaborations must be explicitly declared in the `README.md`.\n",
    "* [Yanking](https://www.emacswiki.org/emacs/KillingAndYanking) from the internet is allowed, but sources must be explicitly declared in the `README.md`.\n",
    "\n"
   ]
  },
  {
   "cell_type": "code",
   "execution_count": 467,
   "metadata": {},
   "outputs": [],
   "source": [
    "import logging\n",
    "from pprint import pprint, pformat\n",
    "from collections import namedtuple\n",
    "import random\n",
    "from copy import deepcopy\n",
    "import numpy as np\n"
   ]
  },
  {
   "cell_type": "markdown",
   "metadata": {},
   "source": [
    "## The *Nim* and *Nimply* classes"
   ]
  },
  {
   "cell_type": "code",
   "execution_count": 468,
   "metadata": {},
   "outputs": [],
   "source": [
    "Nimply = namedtuple(\"Nimply\", \"row, num_objects\")\n"
   ]
  },
  {
   "cell_type": "code",
   "execution_count": 469,
   "metadata": {},
   "outputs": [],
   "source": [
    "class Nim:\n",
    "    def __init__(self, num_rows: int, k: int = None) -> None:\n",
    "        self._rows = [i * 2 + 1 for i in range(num_rows)]\n",
    "        self._k = k\n",
    "\n",
    "    def __bool__(self):\n",
    "        return sum(self._rows) > 0\n",
    "\n",
    "    def __str__(self):\n",
    "        return \"<\" + \" \".join(str(_) for _ in self._rows) + \">\"\n",
    "\n",
    "    @property\n",
    "    def rows(self) -> tuple:\n",
    "        return tuple(self._rows)\n",
    "\n",
    "    def nimming(self, ply: Nimply) -> None:\n",
    "        row, num_objects = ply\n",
    "        assert self._rows[row] >= num_objects\n",
    "        assert self._k is None or num_objects <= self._k\n",
    "        self._rows[row] -= num_objects\n"
   ]
  },
  {
   "cell_type": "markdown",
   "metadata": {},
   "source": [
    "## Sample (and silly) startegies "
   ]
  },
  {
   "cell_type": "code",
   "execution_count": 470,
   "metadata": {},
   "outputs": [],
   "source": [
    "def pure_random(state: Nim) -> Nimply:\n",
    "    \"\"\"A completely random move\"\"\"\n",
    "    row = random.choice([r for r, c in enumerate(state.rows) if c > 0])\n",
    "    num_objects = random.randint(1, state.rows[row])\n",
    "    return Nimply(row, num_objects)\n"
   ]
  },
  {
   "cell_type": "code",
   "execution_count": 471,
   "metadata": {},
   "outputs": [],
   "source": [
    "def gabriele(state: Nim) -> Nimply:\n",
    "    \"\"\"Pick always the maximum possible number of the lowest row\"\"\"\n",
    "    possible_moves = [(r, o) for r, c in enumerate(state.rows) for o in range(1, c + 1)]\n",
    "    return Nimply(*max(possible_moves, key=lambda m: (-m[0], m[1])))\n"
   ]
  },
  {
   "cell_type": "code",
   "execution_count": 472,
   "metadata": {},
   "outputs": [],
   "source": [
    "import numpy as np\n",
    "\n",
    "\n",
    "def nim_sum(state: Nim) -> int:\n",
    "    tmp = np.array([tuple(int(x) for x in f\"{c:032b}\") for c in state.rows])\n",
    "    xor = tmp.sum(axis=0) % 2\n",
    "    return int(\"\".join(str(_) for _ in xor), base=2)\n",
    "\n",
    "\n",
    "def analize(raw: Nim) -> dict:\n",
    "    cooked = dict()\n",
    "    cooked[\"possible_moves\"] = dict()\n",
    "    for ply in (Nimply(r, o) for r, c in enumerate(raw.rows) for o in range(1, c + 1)):\n",
    "        tmp = deepcopy(raw)\n",
    "        tmp.nimming(ply)\n",
    "        cooked[\"possible_moves\"][ply] = nim_sum(tmp)\n",
    "    return cooked\n",
    "\n",
    "\n",
    "def optimal(state: Nim) -> Nimply:\n",
    "    analysis = analize(state)\n",
    "    logging.debug(f\"analysis:\\n{pformat(analysis)}\")\n",
    "    spicy_moves = [ply for ply, ns in analysis[\"possible_moves\"].items() if ns != 0]\n",
    "    if not spicy_moves:\n",
    "        spicy_moves = list(analysis[\"possible_moves\"].keys())\n",
    "    ply = random.choice(spicy_moves)\n",
    "    return ply\n"
   ]
  },
  {
   "cell_type": "code",
   "execution_count": 473,
   "metadata": {},
   "outputs": [],
   "source": [
    "# values is a vector with the probalities to choose each rule\n",
    "\n",
    "def first_strategy(state, values):\n",
    "    # find all the possible secure moves (as the optimal strategy, but we don't choose the move randomly) \n",
    "    analysis = analize(state)\n",
    "    logging.debug(f\"analysis:\\n{pformat(analysis)}\")\n",
    "    spicy_moves = [ply for ply, ns in analysis[\"possible_moves\"].items() if ns != 0]\n",
    "    if not spicy_moves:\n",
    "        spicy_moves = list(analysis[\"possible_moves\"].keys())\n",
    "    rule = np.random.choice(len(values), p=values)\n",
    "    if rule == 0:       # choose the secure moves which take from the last possible row\n",
    "        return max(spicy_moves, key=lambda e: e.row)\n",
    "    if rule == 1:       # choose the secure moves which take more objects\n",
    "        return max(spicy_moves, key=lambda e: e.num_objects)\n",
    "    if rule == 2:       # choose the secure moves which take less objects\n",
    "        return min(spicy_moves, key=lambda e: e.num_objects)\n",
    "    return min(spicy_moves, key=lambda e: e.row)    # choose the secure moves which take from the first possible row\n",
    "\n",
    "\n",
    "def second_strategy(state: Nim, values):\n",
    "    rule = np.random.choice(len(values), p=values)\n",
    "\n",
    "    possible_moves = [      # find all the possible moves\n",
    "        [i, state._rows[i] if state._k is None else min(state._rows[i], state._k)]\n",
    "        for i in range(len(state._rows))\n",
    "        if state._rows[i] != 0\n",
    "    ]\n",
    "    if rule == 0:       # choose the secure moves which take from the last possible row\n",
    "        ply = max(possible_moves, key=lambda e: e[0])\n",
    "    elif rule == 1:     # choose the secure moves which take more objects\n",
    "        ply = max(possible_moves, key=lambda e: e[1])\n",
    "    elif rule == 2:     # choose the secure moves which take less objects\n",
    "        ply = min(possible_moves, key=lambda e: e[1])\n",
    "    else:               # choose the secure moves which take from the first possible row\n",
    "        ply = min(possible_moves, key=lambda e: e[0])\n",
    "\n",
    "    return Nimply(ply[0], ply[1])"
   ]
  },
  {
   "cell_type": "code",
   "execution_count": 474,
   "metadata": {},
   "outputs": [],
   "source": [
    "N_Train = 100\n",
    "\n",
    "# the fitness is given from the number of match win against the optimal strategy with the probability to choose one of the four possible rule in values vector\n",
    "def fitness(values):\n",
    "    count =0\n",
    "    for i in range(N_Train):\n",
    "        logging.getLogger().setLevel(logging.INFO)\n",
    "        nim = Nim(5)\n",
    "        player = 0\n",
    "        while nim:\n",
    "            ply = optimal(nim) if player==0 else second_strategy(nim, values)\n",
    "            nim.nimming(ply)\n",
    "            player = 1 - player\n",
    "        if player == 1:\n",
    "            count+=1\n",
    "   \n",
    "    return count\n",
    "        \n",
    "        \n",
    "    "
   ]
  },
  {
   "cell_type": "code",
   "execution_count": 475,
   "metadata": {},
   "outputs": [
    {
     "name": "stdout",
     "output_type": "stream",
     "text": [
      "Best Probabilities: [0.5326651  0.45845002 0.00888489 0.        ]\n",
      "Win percentage:50%\n"
     ]
    }
   ],
   "source": [
    "μ = 10\n",
    "λ = 20\n",
    "N_rule = 4\n",
    "\n",
    "def ES_algorithm():\n",
    "    \n",
    "    population = np.zeros((μ, N_rule), dtype=np.float32)\n",
    "\n",
    "    for i in range(μ):\n",
    "    \n",
    "        probabilities =  np.random.random(N_rule) \n",
    "        population[i,:] = probabilities /np.sum(probabilities)\n",
    "\n",
    "    for step in range(100):\n",
    "        offspring = np.zeros((λ, N_rule), dtype=np.float32)\n",
    "\n",
    "        for l in range(λ):\n",
    "            # mutation\n",
    "            off= population[np.random.randint(0, μ), :]     # take one random element from the actual population\n",
    "            offspring_noise = np.random.normal(loc=off, scale=1)    # find the gaussian noise\n",
    "            offspring_noise = (offspring_noise - np.min(offspring_noise)) /(np.max(offspring_noise) - np.min(offspring_noise))      # scale the noise to be in the range (0, 1)\n",
    "            offspring[l, :] = offspring_noise/np.sum(offspring_noise)       # the sum of the new probabilities must be 1\n",
    "        sorted_index= np.argsort(np.apply_along_axis(fitness, axis=1, arr= offspring))\n",
    "    \n",
    "        offspring=offspring[sorted_index]\n",
    "        \n",
    "# choose the μ best elements from the new elements (considering the results of the fitness) to add them to the population\n",
    "        population = np.vstack([population, offspring[-μ:]])    \n",
    "    \n",
    "    final_fitness = np.apply_along_axis(fitness, axis=1, arr= population)\n",
    "    best_index= np.argmax(final_fitness)    # find the elements from the population with the highest win percentage\n",
    "    \n",
    "    return population[best_index], final_fitness[best_index] \n",
    "\n",
    "\n",
    "adaptive_player, rating = ES_algorithm()\n",
    "\n",
    "print(f\"Best Probabilities: {adaptive_player}\\nWin percentage:{rating}%\")\n",
    "\n",
    "\n",
    "\n",
    "def adaptive(state: Nim) -> Nimply:\n",
    "    \"\"\"A strategy that can adapt its parameters\"\"\"\n",
    "    return second_strategy(state, adaptive_player)\n",
    "    \n",
    "    \n"
   ]
  },
  {
   "cell_type": "markdown",
   "metadata": {},
   "source": [
    "## Oversimplified match"
   ]
  },
  {
   "cell_type": "code",
   "execution_count": 482,
   "metadata": {},
   "outputs": [
    {
     "name": "stderr",
     "output_type": "stream",
     "text": [
      "INFO:root:init : <1 3 5 7 9>\n",
      "INFO:root:ply: player 0 plays Nimply(row=1, num_objects=2)\n",
      "INFO:root:status: <1 1 5 7 9>\n",
      "INFO:root:ply: player 1 plays Nimply(row=4, num_objects=9)\n",
      "INFO:root:status: <1 1 5 7 0>\n",
      "INFO:root:ply: player 0 plays Nimply(row=2, num_objects=2)\n",
      "INFO:root:status: <1 1 3 7 0>\n",
      "INFO:root:ply: player 1 plays Nimply(row=3, num_objects=7)\n",
      "INFO:root:status: <1 1 3 0 0>\n",
      "INFO:root:ply: player 0 plays Nimply(row=1, num_objects=1)\n",
      "INFO:root:status: <1 0 3 0 0>\n",
      "INFO:root:ply: player 1 plays Nimply(row=2, num_objects=3)\n",
      "INFO:root:status: <1 0 0 0 0>\n",
      "INFO:root:ply: player 0 plays Nimply(row=0, num_objects=1)\n",
      "INFO:root:status: <0 0 0 0 0>\n",
      "INFO:root:status: Player 1 won!\n"
     ]
    }
   ],
   "source": [
    "logging.getLogger().setLevel(logging.INFO)\n",
    "\n",
    "strategy = (optimal, adaptive)\n",
    "\n",
    "nim = Nim(5)\n",
    "logging.info(f\"init : {nim}\")\n",
    "player = 0\n",
    "while nim:\n",
    "    ply = strategy[player](nim)\n",
    "    logging.info(f\"ply: player {player} plays {ply}\")\n",
    "    nim.nimming(ply)\n",
    "    logging.info(f\"status: {nim}\")\n",
    "    player = 1 - player\n",
    "logging.info(f\"status: Player {player} won!\")\n"
   ]
  }
 ],
 "metadata": {
  "kernelspec": {
   "display_name": "Python 3.10.7 ('ci22-dPIXJ0_o-py3.10')",
   "language": "python",
   "name": "python3"
  },
  "language_info": {
   "codemirror_mode": {
    "name": "ipython",
    "version": 3
   },
   "file_extension": ".py",
   "mimetype": "text/x-python",
   "name": "python",
   "nbconvert_exporter": "python",
   "pygments_lexer": "ipython3",
   "version": "3.12.0"
  },
  "vscode": {
   "interpreter": {
    "hash": "10197e8e2f2aa67e2c349105091c77f4cd384fce4877865f002d9ec653f96bc0"
   }
  }
 },
 "nbformat": 4,
 "nbformat_minor": 2
}
