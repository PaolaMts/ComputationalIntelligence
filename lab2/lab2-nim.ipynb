{
 "cells": [
  {
   "cell_type": "markdown",
   "metadata": {
    "pycharm": {
     "name": "#%% md\n"
    }
   },
   "source": [
    "Copyright **`(c)`** 2022 Giovanni Squillero `<squillero@polito.it>`  \n",
    "[`https://github.com/squillero/computational-intelligence`](https://github.com/squillero/computational-intelligence)  \n",
    "Free for personal or classroom use; see [`LICENSE.md`](https://github.com/squillero/computational-intelligence/blob/master/LICENSE.md) for details.  \n"
   ]
  },
  {
   "cell_type": "markdown",
   "metadata": {
    "pycharm": {
     "name": "#%%\n"
    }
   },
   "source": [
    "# Lab 2: ES\n",
    "\n",
    "## Task\n",
    "\n",
    "Write agents able to play [*Nim*](https://en.wikipedia.org/wiki/Nim), with an arbitrary number of rows and an upper bound $k$ on the number of objects that can be removed in a turn (a.k.a., *subtraction game*).\n",
    "\n",
    "The goal of the game is to **avoid** taking the last object.\n",
    "\n",
    "* Task2.1: An agent using fixed rules based on *nim-sum* (i.e., an *expert system*)\n",
    "* Task2.2: An agent using evolved rules using ES\n",
    "\n",
    "## Instructions\n",
    "\n",
    "* Create the directory `lab2` inside your personal course repository for the course \n",
    "* Put a `README.md` and your solution (all the files, code and auxiliary data if needed)\n",
    "\n",
    "## Notes\n",
    "\n",
    "* Working in group is not only allowed, but recommended (see: [Ubuntu](https://en.wikipedia.org/wiki/Ubuntu_philosophy) and [Cooperative Learning](https://files.eric.ed.gov/fulltext/EJ1096789.pdf)). Collaborations must be explicitly declared in the `README.md`.\n",
    "* [Yanking](https://www.emacswiki.org/emacs/KillingAndYanking) from the internet is allowed, but sources must be explicitly declared in the `README.md`.\n",
    "\n"
   ]
  },
  {
   "cell_type": "code",
   "execution_count": 676,
   "metadata": {},
   "outputs": [],
   "source": [
    "import logging\n",
    "from pprint import pprint, pformat\n",
    "from collections import namedtuple\n",
    "import random\n",
    "from copy import deepcopy\n",
    "import numpy as np\n"
   ]
  },
  {
   "cell_type": "markdown",
   "metadata": {},
   "source": [
    "## The *Nim* and *Nimply* classes"
   ]
  },
  {
   "cell_type": "code",
   "execution_count": 677,
   "metadata": {},
   "outputs": [],
   "source": [
    "Nimply = namedtuple(\"Nimply\", \"row, num_objects\")\n"
   ]
  },
  {
   "cell_type": "code",
   "execution_count": 678,
   "metadata": {},
   "outputs": [],
   "source": [
    "class Nim:\n",
    "    def __init__(self, num_rows: int, k: int = None) -> None:\n",
    "        self._rows = [i * 2 + 1 for i in range(num_rows)]\n",
    "        self._k = k\n",
    "\n",
    "    def __bool__(self):\n",
    "        return sum(self._rows) > 0\n",
    "\n",
    "    def __str__(self):\n",
    "        return \"<\" + \" \".join(str(_) for _ in self._rows) + \">\"\n",
    "\n",
    "    @property\n",
    "    def rows(self) -> tuple:\n",
    "        return tuple(self._rows)\n",
    "\n",
    "    def nimming(self, ply: Nimply) -> None:\n",
    "        row, num_objects = ply\n",
    "        assert self._rows[row] >= num_objects\n",
    "        assert self._k is None or num_objects <= self._k\n",
    "        self._rows[row] -= num_objects\n"
   ]
  },
  {
   "cell_type": "markdown",
   "metadata": {},
   "source": [
    "## Sample (and silly) startegies "
   ]
  },
  {
   "cell_type": "code",
   "execution_count": 679,
   "metadata": {},
   "outputs": [],
   "source": [
    "def pure_random(state: Nim) -> Nimply:\n",
    "    \"\"\"A completely random move\"\"\"\n",
    "    row = random.choice([r for r, c in enumerate(state.rows) if c > 0])\n",
    "    num_objects = random.randint(1, state.rows[row])\n",
    "    return Nimply(row, num_objects)\n"
   ]
  },
  {
   "cell_type": "code",
   "execution_count": 680,
   "metadata": {},
   "outputs": [],
   "source": [
    "def gabriele(state: Nim) -> Nimply:\n",
    "    \"\"\"Pick always the maximum possible number of the lowest row\"\"\"\n",
    "    possible_moves = [(r, o) for r, c in enumerate(state.rows) for o in range(1, c + 1)]\n",
    "    return Nimply(*max(possible_moves, key=lambda m: (-m[0], m[1])))\n"
   ]
  },
  {
   "cell_type": "code",
   "execution_count": 681,
   "metadata": {},
   "outputs": [],
   "source": [
    "import numpy as np\n",
    "\n",
    "\n",
    "def nim_sum(state: Nim) -> int:\n",
    "    tmp = np.array([tuple(int(x) for x in f\"{c:032b}\") for c in state.rows])\n",
    "    xor = tmp.sum(axis=0) % 2\n",
    "    return int(\"\".join(str(_) for _ in xor), base=2)\n",
    "\n",
    "\n",
    "def analize(raw: Nim) -> dict:\n",
    "    cooked = dict()\n",
    "    cooked[\"possible_moves\"] = dict()\n",
    "    for ply in (Nimply(r, o) for r, c in enumerate(raw.rows) for o in range(1, c + 1)):\n",
    "        tmp = deepcopy(raw)\n",
    "        tmp.nimming(ply)\n",
    "        cooked[\"possible_moves\"][ply] = nim_sum(tmp)\n",
    "    return cooked\n",
    "\n",
    "\n",
    "def optimal(state: Nim) -> Nimply:\n",
    "    analysis = analize(state)\n",
    "    logging.debug(f\"analysis:\\n{pformat(analysis)}\")\n",
    "    spicy_moves = [ply for ply, ns in analysis[\"possible_moves\"].items() if ns != 0]\n",
    "    if not spicy_moves:\n",
    "        spicy_moves = list(analysis[\"possible_moves\"].keys())\n",
    "    ply = random.choice(spicy_moves)\n",
    "    return ply\n"
   ]
  },
  {
   "cell_type": "code",
   "execution_count": 682,
   "metadata": {},
   "outputs": [],
   "source": [
    "# values is a vector with the probabilities to choose each rule\n",
    "\n",
    "\n",
    "def first_strategy(state, values):\n",
    "    # find all the possible secure moves (as the optimal strategy, but we don't choose the move randomly)\n",
    "    analysis = analize(state)\n",
    "    logging.debug(f\"analysis:\\n{pformat(analysis)}\")\n",
    "    spicy_moves = [ply for ply, ns in analysis[\"possible_moves\"].items() if ns != 0]\n",
    "    if not spicy_moves:\n",
    "        spicy_moves = list(analysis[\"possible_moves\"].keys())\n",
    "    rule = np.random.choice(len(values), p=values)\n",
    "    if rule == 0:  # choose the secure moves which take from the last possible row\n",
    "        return max(spicy_moves, key=lambda e: e.row)\n",
    "    if rule == 1:  # choose the secure moves which take more objects\n",
    "        return max(spicy_moves, key=lambda e: e.num_objects)\n",
    "    if rule == 2:  # choose the secure moves which take less objects\n",
    "        return min(spicy_moves, key=lambda e: e.num_objects)\n",
    "    return min(\n",
    "        spicy_moves, key=lambda e: e.row\n",
    "    )  # choose the secure moves which take from the first possible row\n",
    "\n",
    "\n",
    "def second_strategy(state: Nim, values):\n",
    "    rule = np.random.choice(len(values), p=values)\n",
    "\n",
    "    # with N_rule=5: debug, it converges to the optimal solution\n",
    "    # if rule==4:\n",
    "    #     return optimal(state)\n",
    "\n",
    "    possible_moves = [  # find all the possible moves\n",
    "        [i, state._rows[i] if state._k is None else min(state._rows[i], state._k)]\n",
    "        for i in range(len(state._rows))\n",
    "        if state._rows[i] != 0\n",
    "    ]\n",
    "    if rule == 0:  # choose moves which take from the last possible row\n",
    "        ply = max(possible_moves, key=lambda e: e[0])\n",
    "    elif rule == 1:  # choose moves which take more objects\n",
    "        ply = max(possible_moves, key=lambda e: e[1])\n",
    "    elif rule == 2:  # choose moves which take less objects\n",
    "        ply = min(possible_moves, key=lambda e: e[1])\n",
    "    elif rule ==3:  # choose moves which take from the first possible row\n",
    "        ply = min(possible_moves, key=lambda e: e[0])\n",
    "\n",
    "    return Nimply(ply[0], ply[1])"
   ]
  },
  {
   "cell_type": "code",
   "execution_count": 683,
   "metadata": {},
   "outputs": [],
   "source": [
    "μ = 10\n",
    "λ = 20\n",
    "σ = 1\n",
    "N_rule = 4\n",
    "N_Train = 100\n",
    "\n",
    "# the fitness is given from the number of match win against the optimal strategy with the probability to choose one of the four possible rule in values vector\n",
    "\n",
    "def fitness(values):\n",
    "    count = 0\n",
    "\n",
    "    for _ in range(N_Train):\n",
    "        nim = Nim(5)\n",
    "        player = 0\n",
    "        while nim:\n",
    "            ply = optimal(nim) if player == 0 else second_strategy(nim, values)\n",
    "            nim.nimming(ply)\n",
    "            player = 1 - player\n",
    "        if player == 1:\n",
    "            count += 1\n",
    "\n",
    "    return (count*100)/N_Train\n",
    "\n",
    "# mutation more similar to the pseudocode in \"essential\"\n",
    "# def mutation(population):\n",
    "#     offspring = []\n",
    "#     for p in population:\n",
    "#         for _ in range(λ//μ):\n",
    "#             off = (p[0], np.abs(np.random.normal(loc=p[-1], scale=0.2)))\n",
    "#             offspring_noise = np.abs(\n",
    "#                 np.random.normal(loc=off[0], scale=off[1])\n",
    "#             )  # find the gaussian noise\n",
    "#             offspring_noise = list(\n",
    "#                 offspring_noise / np.sum(offspring_noise)\n",
    "#             )  # the sum of the new probabilities must be 1\n",
    "#             offspring.append((offspring_noise, fitness(offspring_noise), off[1]))\n",
    "\n",
    "#     return offspring\n",
    "\n",
    "def mutation(population):\n",
    "    offspring = []\n",
    "\n",
    "    for _ in range(λ):\n",
    "        p = population[np.random.randint(0, μ)]\n",
    "        off =(p[0], np.abs(np.random.normal(loc=p[-1], scale=0.2)))\n",
    "        offspring_noise = np.abs(\n",
    "            np.random.normal(loc=off[0], scale=off[1])\n",
    "        )  # find the gaussian noise\n",
    "        offspring_noise = list(\n",
    "            offspring_noise / np.sum(offspring_noise)\n",
    "        )  # the sum of the new probabilities must be 1\n",
    "        offspring.append((offspring_noise, fitness(offspring_noise),off[1]))\n",
    "\n",
    "    return offspring"
   ]
  },
  {
   "cell_type": "code",
   "execution_count": 684,
   "metadata": {},
   "outputs": [
    {
     "name": "stdout",
     "output_type": "stream",
     "text": [
      "Best Probabilities: [0.13863852464267112, 0.8319575645291863, 0.02287571494440402, 0.006528195883738516]\n",
      "Win percentage:53.0%\n"
     ]
    }
   ],
   "source": [
    "def ES_algorithm():\n",
    "    population = []\n",
    "    best_fitness = None\n",
    "    best_probabilities = None\n",
    "\n",
    "    for _ in range(μ):\n",
    "        probabilities = list(np.random.dirichlet(np.ones(N_rule)))\n",
    "        population.append((probabilities, fitness(probabilities), σ))\n",
    "    step = 0\n",
    "\n",
    "    while best_fitness is None or (best_fitness < 50.0 and step < 100):\n",
    "        offspring = mutation(population)\n",
    "\n",
    "        # parents compete with the new elements\n",
    "        offspring.extend(population)\n",
    "        tmp_pop = sorted(offspring, key=lambda e: e[1])\n",
    "\n",
    "        if best_fitness is None or tmp_pop[-1][1] > best_fitness:\n",
    "            best_fitness = tmp_pop[-1][1]\n",
    "            best_probabilities = tmp_pop[-1][0]\n",
    "\n",
    "        # choose the μ best elements (considering the results of the fitness) to add them to the population\n",
    "        population = tmp_pop[-μ:]\n",
    "\n",
    "        step += 1\n",
    "\n",
    "    return best_probabilities, best_fitness\n",
    "\n",
    "\n",
    "adaptive_player, rating = ES_algorithm()\n",
    "\n",
    "print(f\"Best Probabilities: {adaptive_player}\\nWin percentage:{rating}%\")\n",
    "\n",
    "\n",
    "def adaptive(state: Nim) -> Nimply:\n",
    "    \"\"\"A strategy that can adapt its parameters\"\"\"\n",
    "    return second_strategy(state, adaptive_player)"
   ]
  },
  {
   "cell_type": "markdown",
   "metadata": {},
   "source": [
    "## Oversimplified match"
   ]
  },
  {
   "cell_type": "code",
   "execution_count": 685,
   "metadata": {},
   "outputs": [
    {
     "name": "stderr",
     "output_type": "stream",
     "text": [
      "INFO:root:init : <1 3 5 7 9>\n",
      "INFO:root:ply: player 0 plays Nimply(row=4, num_objects=8)\n",
      "INFO:root:status: <1 3 5 7 1>\n",
      "INFO:root:ply: player 1 plays Nimply(row=3, num_objects=7)\n",
      "INFO:root:status: <1 3 5 0 1>\n",
      "INFO:root:ply: player 0 plays Nimply(row=1, num_objects=2)\n",
      "INFO:root:status: <1 1 5 0 1>\n",
      "INFO:root:ply: player 1 plays Nimply(row=0, num_objects=1)\n",
      "INFO:root:status: <0 1 5 0 1>\n",
      "INFO:root:ply: player 0 plays Nimply(row=4, num_objects=1)\n",
      "INFO:root:status: <0 1 5 0 0>\n",
      "INFO:root:ply: player 1 plays Nimply(row=2, num_objects=5)\n",
      "INFO:root:status: <0 1 0 0 0>\n",
      "INFO:root:ply: player 0 plays Nimply(row=1, num_objects=1)\n",
      "INFO:root:status: <0 0 0 0 0>\n",
      "INFO:root:status: Player 1 won!\n"
     ]
    }
   ],
   "source": [
    "logging.getLogger().setLevel(logging.INFO)\n",
    "\n",
    "strategy = (optimal, adaptive)\n",
    "\n",
    "nim = Nim(5)\n",
    "logging.info(f\"init : {nim}\")\n",
    "player = 0\n",
    "while nim:\n",
    "    ply = strategy[player](nim)\n",
    "    logging.info(f\"ply: player {player} plays {ply}\")\n",
    "    nim.nimming(ply)\n",
    "    logging.info(f\"status: {nim}\")\n",
    "    player = 1 - player\n",
    "logging.info(f\"status: Player {player} won!\")\n"
   ]
  }
 ],
 "metadata": {
  "kernelspec": {
   "display_name": "Python 3.10.7 ('ci22-dPIXJ0_o-py3.10')",
   "language": "python",
   "name": "python3"
  },
  "language_info": {
   "codemirror_mode": {
    "name": "ipython",
    "version": 3
   },
   "file_extension": ".py",
   "mimetype": "text/x-python",
   "name": "python",
   "nbconvert_exporter": "python",
   "pygments_lexer": "ipython3",
   "version": "3.12.0"
  },
  "vscode": {
   "interpreter": {
    "hash": "10197e8e2f2aa67e2c349105091c77f4cd384fce4877865f002d9ec653f96bc0"
   }
  }
 },
 "nbformat": 4,
 "nbformat_minor": 2
}
